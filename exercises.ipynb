{
  "cells": [
    {
      "cell_type": "markdown",
      "id": "ded28f26",
      "metadata": {},
      "source": [
        "<font color='darkred'> Unless otherwise noted, **this notebook will not be reviewed or autograded.**</font> You are welcome to use it for scratchwork, but **only the files listed in the exercises will be checked.**\n",
        "\n",
        "---\n",
        "\n",
        "# Background\n",
        "\n",
        "You've just been hired as a Pokémon researcher, and your assignment is to maintain a dataset of sightings from trainers worldwide. You expect future inputs may be duplicate entries, and there may be missing values or inconsistent formats. These sorts of entries can cause the system to crash, so you need to build a validation process for newly recieved data.\n",
        "\n",
        "The current (existing) entry data includes a collection of **first** sightings from various trainers."
      ]
    },
    {
      "cell_type": "code",
      "execution_count": null,
      "id": "b0e708d0",
      "metadata": {},
      "outputs": [],
      "source": [
        "import pandas as pd"
      ]
    },
    {
      "cell_type": "code",
      "execution_count": 2,
      "id": "2c49fcba-e11a-4014-920d-1aad78559ab1",
      "metadata": {
        "id": "2c49fcba-e11a-4014-920d-1aad78559ab1",
        "tags": []
      },
      "outputs": [],
      "source": [
        "# load synthetic data for this exercise\n",
        "df = pd.read_csv('https://raw.githubusercontent.com/leontoddjohnson/datasets/main/data/pokemon/pokemon_entries.csv')"
      ]
    },
    {
      "cell_type": "code",
      "execution_count": 4,
      "id": "2328b774-743c-4d49-bbf6-e11bf533594e",
      "metadata": {
        "id": "2328b774-743c-4d49-bbf6-e11bf533594e",
        "outputId": "e691a0e7-0629-45da-815d-7dd1178447e7",
        "tags": []
      },
      "outputs": [
        {
          "data": {
            "text/html": [
              "<div>\n",
              "<style scoped>\n",
              "    .dataframe tbody tr th:only-of-type {\n",
              "        vertical-align: middle;\n",
              "    }\n",
              "\n",
              "    .dataframe tbody tr th {\n",
              "        vertical-align: top;\n",
              "    }\n",
              "\n",
              "    .dataframe thead th {\n",
              "        text-align: right;\n",
              "    }\n",
              "</style>\n",
              "<table border=\"1\" class=\"dataframe\">\n",
              "  <thead>\n",
              "    <tr style=\"text-align: right;\">\n",
              "      <th></th>\n",
              "      <th>pokemon_id</th>\n",
              "      <th>trainer_name</th>\n",
              "      <th>pokemon_type</th>\n",
              "      <th>seen_time</th>\n",
              "    </tr>\n",
              "  </thead>\n",
              "  <tbody>\n",
              "    <tr>\n",
              "      <th>56</th>\n",
              "      <td>35</td>\n",
              "      <td>Trainer_34</td>\n",
              "      <td>Grass</td>\n",
              "      <td>2023-07-17 00:00:00</td>\n",
              "    </tr>\n",
              "    <tr>\n",
              "      <th>90</th>\n",
              "      <td>41</td>\n",
              "      <td>Trainer_8</td>\n",
              "      <td>Normal</td>\n",
              "      <td>2023-12-14 16:00:00</td>\n",
              "    </tr>\n",
              "    <tr>\n",
              "      <th>95</th>\n",
              "      <td>97</td>\n",
              "      <td>Trainer_77</td>\n",
              "      <td>Grass</td>\n",
              "      <td>2023-12-26 00:00:00</td>\n",
              "    </tr>\n",
              "    <tr>\n",
              "      <th>82</th>\n",
              "      <td>130</td>\n",
              "      <td>Trainer_60</td>\n",
              "      <td>Normal</td>\n",
              "      <td>2023-11-10 20:00:00</td>\n",
              "    </tr>\n",
              "    <tr>\n",
              "      <th>60</th>\n",
              "      <td>90</td>\n",
              "      <td>Trainer_23</td>\n",
              "      <td>Normal</td>\n",
              "      <td>2023-08-23 04:00:00</td>\n",
              "    </tr>\n",
              "  </tbody>\n",
              "</table>\n",
              "</div>"
            ],
            "text/plain": [
              "    pokemon_id trainer_name pokemon_type            seen_time\n",
              "56          35   Trainer_34        Grass  2023-07-17 00:00:00\n",
              "90          41    Trainer_8       Normal  2023-12-14 16:00:00\n",
              "95          97   Trainer_77        Grass  2023-12-26 00:00:00\n",
              "82         130   Trainer_60       Normal  2023-11-10 20:00:00\n",
              "60          90   Trainer_23       Normal  2023-08-23 04:00:00"
            ]
          },
          "execution_count": 4,
          "metadata": {},
          "output_type": "execute_result"
        }
      ],
      "source": [
        "# sample from current entries\n",
        "df.sample(5, random_state=33)"
      ]
    },
    {
      "cell_type": "markdown",
      "id": "6f2176c3-d72e-49c9-8c1f-51842c50fa5d",
      "metadata": {
        "id": "6f2176c3-d72e-49c9-8c1f-51842c50fa5d"
      },
      "source": [
        "# Exercises\n",
        "\n",
        "Over the next few exercises, we will implement a system that validates new Pokémon entries, handling errors and ensuring necessary information is present. A new entry should be in the form of a dictionary:\n",
        "\n",
        "```python\n",
        "entry_example = {\n",
        "    'pokemon_id': 78,\n",
        "    'trainer_name': 'Trainer_48',\n",
        "    'pokemon_type': 'normal',\n",
        "    'seen_time': '2023-12-28 20:00:00'\n",
        "}\n",
        "```\n",
        "\n",
        "All but the last exercise below will be done by editing the *apputil\\.py* file. The last exercise involves creating a unit testing suite in a separate python file. In all cases, make sure to **use `assert`, `try`, and `except` appropriately.**"
      ]
    },
    {
      "cell_type": "markdown",
      "id": "efa1c2f4",
      "metadata": {},
      "source": [
        "## Exercise 1\n",
        "\n",
        "If an entry's `pokemon_id`-`trainer_name`-`seen_time` combination already exists in the existing data, then it is a duplicate.\n",
        "\n",
        "Create a function called `is_duplicate(entry)` that returns `True` if the `entry` is a duplicate, and `False` otherwise.\n",
        "\n",
        "*Hint: Notice that the `trainer_name` is case insensitive. So, `Trainer_48` is the same as `trainer_48`.*\n",
        "\n"
      ]
    },
    {
      "cell_type": "markdown",
      "id": "34cc38f3",
      "metadata": {},
      "source": [
        "## Exercise 2\n",
        "\n",
        "The `pokemon_type` must be one of the following: 'Water', 'Fire', 'Grass', 'Earth', 'Normal', or it can be empty (notice, these must be capitalized).\n",
        "\n",
        "Write a function `clean_type(entry)` that does the following:\n",
        "\n",
        "1. If the type is invalid, throw a `ValueError` with a descriptive message.\n",
        "2. If the type is \"empty\"-ish (e.g., None, \"\", \" \", etc.), return `None`.\n",
        "3. If the type is valid, make sure it's capitalized, and return the correct string.\n",
        "\n",
        "So for example, we could have\n",
        "\n",
        "```python\n",
        "clean_type(entry_example)\n",
        ">> \"Normal\"\n",
        "```"
      ]
    },
    {
      "cell_type": "markdown",
      "id": "093738cd",
      "metadata": {},
      "source": [
        "## Exercise 3\n",
        "\n",
        "Write a function `clean_id(entry)` that does the following:\n",
        "\n",
        "1. If the `pokemon_id` is negative or not an integer, throw a `ValueError` with a descriptive message.\n",
        "2. If the `pokemon_id` is a string containing an integer (e.g., \"123\"), coerce it to an integer, and return that integer."
      ]
    },
    {
      "cell_type": "markdown",
      "id": "8aff1803",
      "metadata": {},
      "source": [
        "## Exercise 4\n",
        "\n",
        "Recall that the current entry data includes **first** sightings from trainers. So, a new sighting for a trainer cannot be before a date already in the dataset.\n",
        "\n",
        "Create a function `clean_time(entry)` that does the following:\n",
        "\n",
        "1. If the `seen_time` cannot be parsed by `pd.Timestamp`, return a `ValueError` with a descriptive message.\n",
        "2. If the `seen_time` occurs *before* the earliest one in the dataset, return a `ValueError` with a descriptive message.\n",
        "3. If the `seen_time` is valid, return the `pd.Timestamp` of that time.\n",
        "\n",
        "For example: Trainer_35 cannot have seen a new pokemon before 2023-01-06 at 8am:"
      ]
    },
    {
      "cell_type": "code",
      "execution_count": 9,
      "id": "1e7ccc31",
      "metadata": {},
      "outputs": [
        {
          "data": {
            "text/html": [
              "<div>\n",
              "<style scoped>\n",
              "    .dataframe tbody tr th:only-of-type {\n",
              "        vertical-align: middle;\n",
              "    }\n",
              "\n",
              "    .dataframe tbody tr th {\n",
              "        vertical-align: top;\n",
              "    }\n",
              "\n",
              "    .dataframe thead th {\n",
              "        text-align: right;\n",
              "    }\n",
              "</style>\n",
              "<table border=\"1\" class=\"dataframe\">\n",
              "  <thead>\n",
              "    <tr style=\"text-align: right;\">\n",
              "      <th></th>\n",
              "      <th>pokemon_id</th>\n",
              "      <th>trainer_name</th>\n",
              "      <th>pokemon_type</th>\n",
              "      <th>seen_time</th>\n",
              "    </tr>\n",
              "  </thead>\n",
              "  <tbody>\n",
              "    <tr>\n",
              "      <th>0</th>\n",
              "      <td>28</td>\n",
              "      <td>Trainer_39</td>\n",
              "      <td>Water</td>\n",
              "      <td>2023-01-06 08:00:00</td>\n",
              "    </tr>\n",
              "  </tbody>\n",
              "</table>\n",
              "</div>"
            ],
            "text/plain": [
              "   pokemon_id trainer_name pokemon_type            seen_time\n",
              "0          28   Trainer_39        Water  2023-01-06 08:00:00"
            ]
          },
          "execution_count": 9,
          "metadata": {},
          "output_type": "execute_result"
        }
      ],
      "source": [
        "df[df['trainer_name'].str.lower() == \"trainer_39\"]"
      ]
    },
    {
      "cell_type": "markdown",
      "id": "3504bca3",
      "metadata": {},
      "source": [
        "## Exercise 5\n",
        "\n",
        "Create a function **validate_entry** that combines the functions above. It should accept a single Pokemon entry in the form of a dictionary, and return a clean entry or throw an error.\n"
      ]
    },
    {
      "cell_type": "markdown",
      "id": "b51c1190",
      "metadata": {},
      "source": [
        "## Exercise 6\n",
        "\n",
        "Use the `unittest` package to "
      ]
    }
  ],
  "metadata": {
    "colab": {
      "provenance": []
    },
    "kernelspec": {
      "display_name": "base",
      "language": "python",
      "name": "python3"
    },
    "language_info": {
      "codemirror_mode": {
        "name": "ipython",
        "version": 3
      },
      "file_extension": ".py",
      "mimetype": "text/x-python",
      "name": "python",
      "nbconvert_exporter": "python",
      "pygments_lexer": "ipython3",
      "version": "3.11.13"
    }
  },
  "nbformat": 4,
  "nbformat_minor": 5
}
