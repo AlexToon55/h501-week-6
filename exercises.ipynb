{
  "cells": [
    {
      "cell_type": "markdown",
      "id": "ded28f26",
      "metadata": {},
      "source": [
        "<font color='darkred'> Unless otherwise noted, **this notebook will not be reviewed or autograded.**</font> You are welcome to use it for scratchwork, but **only the files listed in the exercises will be checked.**\n",
        "\n",
        "---\n",
        "\n",
        "# Exercises\n",
        "\n",
        "For these exercises, you'll be adjusting the *apputil.py* file.\n"
      ]
    },
    {
      "cell_type": "markdown",
      "id": "951027e2",
      "metadata": {},
      "source": [
        "## Exercise 1\n",
        "\n",
        "Create a Python class named `Genius` such that the following code initializes the object, and \"saves\" the access token as an attribute of the object.\n",
        "\n",
        "```python\n",
        "genius = Genius(access_token=\"access_token\")\n",
        "```"
      ]
    },
    {
      "cell_type": "markdown",
      "id": "bde62e8d",
      "metadata": {},
      "source": [
        "## Exercise 2\n",
        "\n",
        "Adjust this class so that the following code"
      ]
    },
    {
      "cell_type": "markdown",
      "id": "55054b2a",
      "metadata": {},
      "source": []
    }
  ],
  "metadata": {
    "colab": {
      "provenance": []
    },
    "kernelspec": {
      "display_name": "base",
      "language": "python",
      "name": "python3"
    },
    "language_info": {
      "codemirror_mode": {
        "name": "ipython",
        "version": 3
      },
      "file_extension": ".py",
      "mimetype": "text/x-python",
      "name": "python",
      "nbconvert_exporter": "python",
      "pygments_lexer": "ipython3",
      "version": "3.11.13"
    }
  },
  "nbformat": 4,
  "nbformat_minor": 5
}
