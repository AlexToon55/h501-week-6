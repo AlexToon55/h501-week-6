{
  "cells": [
    {
      "cell_type": "markdown",
      "id": "ded28f26",
      "metadata": {},
      "source": [
        "<font color='darkred'> Unless otherwise noted, **this notebook will not be reviewed or autograded.**</font> You are welcome to use it for scratchwork, but **only the files listed in the exercises will be checked.**\n",
        "\n",
        "---\n",
        "\n",
        "# Background\n",
        "\n",
        "You've just been hired as a Pokémon researcher, and your assignment is to maintain a dataset of sightings from trainers worldwide. You expect future inputs may be duplicate entries, and there may be missing values or inconsistent formats. These sorts of entries can cause the system to crash, so you need to build a validation process for newly recieved data.\n",
        "\n",
        "The current (existing) entry data includes a collection of **first** sightings from various trainers."
      ]
    },
    {
      "cell_type": "code",
      "execution_count": null,
      "id": "b0e708d0",
      "metadata": {},
      "outputs": [],
      "source": [
        "import pandas as pd\n",
        "import numpy as np"
      ]
    },
    {
      "cell_type": "code",
      "execution_count": null,
      "id": "2c49fcba-e11a-4014-920d-1aad78559ab1",
      "metadata": {
        "id": "2c49fcba-e11a-4014-920d-1aad78559ab1",
        "tags": []
      },
      "outputs": [],
      "source": [
        "# load synthetic data for this exercise\n",
        "df = pd.read_csv('https://raw.githubusercontent.com/leontoddjohnson/datasets/main/data/pokemon/pokemon_entries.csv')"
      ]
    },
    {
      "cell_type": "code",
      "execution_count": null,
      "id": "2328b774-743c-4d49-bbf6-e11bf533594e",
      "metadata": {
        "id": "2328b774-743c-4d49-bbf6-e11bf533594e",
        "outputId": "e691a0e7-0629-45da-815d-7dd1178447e7",
        "tags": []
      },
      "outputs": [
        {
          "data": {
            "text/html": [
              "<div>\n",
              "<style scoped>\n",
              "    .dataframe tbody tr th:only-of-type {\n",
              "        vertical-align: middle;\n",
              "    }\n",
              "\n",
              "    .dataframe tbody tr th {\n",
              "        vertical-align: top;\n",
              "    }\n",
              "\n",
              "    .dataframe thead th {\n",
              "        text-align: right;\n",
              "    }\n",
              "</style>\n",
              "<table border=\"1\" class=\"dataframe\">\n",
              "  <thead>\n",
              "    <tr style=\"text-align: right;\">\n",
              "      <th></th>\n",
              "      <th>pokemon_id</th>\n",
              "      <th>trainer_name</th>\n",
              "      <th>pokemon_type</th>\n",
              "      <th>seen_time</th>\n",
              "    </tr>\n",
              "  </thead>\n",
              "  <tbody>\n",
              "    <tr>\n",
              "      <th>44</th>\n",
              "      <td>46</td>\n",
              "      <td>Trainer_81</td>\n",
              "      <td>Water</td>\n",
              "      <td>2023-05-17 00:00:00</td>\n",
              "    </tr>\n",
              "    <tr>\n",
              "      <th>93</th>\n",
              "      <td>75</td>\n",
              "      <td>Trainer_19</td>\n",
              "      <td>Grass</td>\n",
              "      <td>2023-12-20 12:00:00</td>\n",
              "    </tr>\n",
              "    <tr>\n",
              "      <th>20</th>\n",
              "      <td>63</td>\n",
              "      <td>Trainer_82</td>\n",
              "      <td>Normal</td>\n",
              "      <td>2023-03-01 16:00:00</td>\n",
              "    </tr>\n",
              "    <tr>\n",
              "      <th>10</th>\n",
              "      <td>79</td>\n",
              "      <td>Trainer_10</td>\n",
              "      <td>NaN</td>\n",
              "      <td>2023-02-01 20:00:00</td>\n",
              "    </tr>\n",
              "    <tr>\n",
              "      <th>34</th>\n",
              "      <td>144</td>\n",
              "      <td>Trainer_50</td>\n",
              "      <td>Water</td>\n",
              "      <td>2023-04-15 20:00:00</td>\n",
              "    </tr>\n",
              "  </tbody>\n",
              "</table>\n",
              "</div>"
            ],
            "text/plain": [
              "    pokemon_id trainer_name pokemon_type            seen_time\n",
              "44          46   Trainer_81        Water  2023-05-17 00:00:00\n",
              "93          75   Trainer_19        Grass  2023-12-20 12:00:00\n",
              "20          63   Trainer_82       Normal  2023-03-01 16:00:00\n",
              "10          79   Trainer_10          NaN  2023-02-01 20:00:00\n",
              "34         144   Trainer_50        Water  2023-04-15 20:00:00"
            ]
          },
          "execution_count": 6,
          "metadata": {},
          "output_type": "execute_result"
        }
      ],
      "source": [
        "# sample from current entries\n",
        "df.sample(5)"
      ]
    },
    {
      "cell_type": "markdown",
      "id": "9e6d6c02-341d-47c1-95e6-7be3fe57e2f9",
      "metadata": {
        "id": "9e6d6c02-341d-47c1-95e6-7be3fe57e2f9"
      },
      "source": [
        "**Input Requirements**\n",
        "\n",
        "- The `pokemon_type` must be one of the following: 'Water', 'Fire', 'Grass', 'Earth', 'Normal', or it can be unknown.\n",
        "    - These must be capitalized.\n",
        "- The `pokemon_id` cannot be negative, and it must be an integer.\n",
        "- Recall that the current entry data includes **first** sightings from trainers. So, a new sighting for a trainer cannot be before a date already in the dataset.\n",
        "    - For example: Trainer_35 cannot have seen a new pokemon before 2023-12-05 at noon."
      ]
    },
    {
      "cell_type": "markdown",
      "id": "6f2176c3-d72e-49c9-8c1f-51842c50fa5d",
      "metadata": {
        "id": "6f2176c3-d72e-49c9-8c1f-51842c50fa5d"
      },
      "source": [
        "# Exercises\n",
        "\n",
        "Over the next few exercises, we will implement a system that validates new Pokémon entries, handling errors and ensuring necessary information is present. The following is a valid entry:\n",
        "\n",
        "```python\n",
        "{\n",
        "    'pokemon_id': 78,\n",
        "    'trainer_name': 'Trainer_48',\n",
        "    'pokemon_type': 'Normal',\n",
        "    'seen_time': '2023-12-28 20:00:00'\n",
        "}\n",
        "```\n",
        "\n",
        "All but the last exercise below will be done by editing the *apputil\\.py* file.\n",
        "\n",
        "## Exercise 1\n",
        "\n",
        "Create a function that denies duplicates. That is, if a `pokemon_id`-`trainer_name`-`seen_time` combination already exists, then this is a duplicate. Write your function \n",
        "\n",
        "create a function **validate_entry** that accepts a single Pokemon entry in the form of a dictionary as input. If that input is valid, \n",
        "\n",
        "\n",
        "\n",
        "\n",
        "The function must accomplish the following:\n",
        "\n",
        "* If the new entry is a duplicate (see above), print a message stating so.\n",
        "* If the `pokemon_type` is invalid, return an error.\n",
        "* If the `pokemon_type` is missing or an empty string (\"\"), set the `pokemon_type` in the data to be missing (using `None` or `np.nan`).\n",
        "* If the `pokemon_type` is valid, but not in the right format (i.e., capitalized), then correct the format (e.g., consider using `str.capitalize()`).\n",
        "* If the `pokemon_id` is negative or not an integer, return an error.\n",
        "* If the `pokemon_id` is a string containing an integer (e.g., \"123\"), coerce it to be an integer.\n",
        "* If the `seen_time` is invalid, return an error.\n",
        "* *Note: The `trainer_name` is case insensitive. That is, \"Trainer_1\" is the same as \"trainer_1\", and either are fine.*\n",
        "\n",
        "Your function must **use `assert`, `try`, and `except` appropriately**. Also, any dictionary output by the function should seamlessly append to the \"current\" dataset."
      ]
    },
    {
      "cell_type": "code",
      "execution_count": null,
      "id": "e93f079a-50b8-4373-bd9e-c4f07ee91860",
      "metadata": {
        "id": "e93f079a-50b8-4373-bd9e-c4f07ee91860",
        "tags": []
      },
      "outputs": [],
      "source": [
        "def validate_entry(new_entry):\n",
        "    # your code here\n",
        "\n",
        "    print('Function reports errors, and fixes problems ...')\n",
        "\n",
        "    valid_entry = new_entry  # this is wrong, of course\n",
        "\n",
        "    return valid_entry"
      ]
    },
    {
      "cell_type": "code",
      "execution_count": null,
      "id": "bdf46277-d9de-471d-a8c6-b33b2c5dcca4",
      "metadata": {
        "id": "bdf46277-d9de-471d-a8c6-b33b2c5dcca4",
        "outputId": "38f59e84-220a-4e7e-b93f-151d8fb6d876",
        "tags": []
      },
      "outputs": [
        {
          "name": "stdout",
          "output_type": "stream",
          "text": [
            "Function reports errors, and fixes problems ...\n"
          ]
        },
        {
          "data": {
            "text/plain": [
              "{'pokemon_id': 34,\n",
              " 'trainer_name': 'Trainer_48',\n",
              " 'pokemon_type': 'Normal',\n",
              " 'seen_time': Timestamp('2023-12-28 20:00:00')}"
            ]
          },
          "execution_count": 56,
          "metadata": {},
          "output_type": "execute_result"
        }
      ],
      "source": [
        "new_entry = df.sample(1).iloc[0]\n",
        "\n",
        "validate_entry(new_entry.to_dict())"
      ]
    },
    {
      "cell_type": "code",
      "execution_count": null,
      "id": "6c9feac3-11b9-4d28-be9f-d6ee7f10726f",
      "metadata": {
        "id": "6c9feac3-11b9-4d28-be9f-d6ee7f10726f",
        "outputId": "16610793-13f9-4c32-b373-a101239dab0c",
        "tags": []
      },
      "outputs": [
        {
          "data": {
            "text/html": [
              "<div>\n",
              "<style scoped>\n",
              "    .dataframe tbody tr th:only-of-type {\n",
              "        vertical-align: middle;\n",
              "    }\n",
              "\n",
              "    .dataframe tbody tr th {\n",
              "        vertical-align: top;\n",
              "    }\n",
              "\n",
              "    .dataframe thead th {\n",
              "        text-align: right;\n",
              "    }\n",
              "</style>\n",
              "<table border=\"1\" class=\"dataframe\">\n",
              "  <thead>\n",
              "    <tr style=\"text-align: right;\">\n",
              "      <th></th>\n",
              "      <th>pokemon_id</th>\n",
              "      <th>trainer_name</th>\n",
              "      <th>pokemon_type</th>\n",
              "      <th>seen_time</th>\n",
              "    </tr>\n",
              "  </thead>\n",
              "  <tbody>\n",
              "    <tr>\n",
              "      <th>7</th>\n",
              "      <td>136</td>\n",
              "      <td>Trainer_6</td>\n",
              "      <td>Fire</td>\n",
              "      <td>2023-01-31 00:00:00</td>\n",
              "    </tr>\n",
              "  </tbody>\n",
              "</table>\n",
              "</div>"
            ],
            "text/plain": [
              "   pokemon_id trainer_name pokemon_type            seen_time\n",
              "7         136    Trainer_6         Fire  2023-01-31 00:00:00"
            ]
          },
          "execution_count": 4,
          "metadata": {},
          "output_type": "execute_result"
        }
      ],
      "source": [
        "df[df['trainer_name'] == 'Trainer_6']"
      ]
    },
    {
      "cell_type": "markdown",
      "id": "7f5b9a4d-332a-4b71-8391-c7e7cab17e3a",
      "metadata": {
        "id": "7f5b9a4d-332a-4b71-8391-c7e7cab17e3a"
      },
      "source": [
        "## Test Cases\n",
        "\n",
        "A few examples:\n",
        "\n",
        "```\n",
        "{'pokemon_id': 12,\n",
        " 'trainer_name': 'Trainer_8',\n",
        " 'pokemon_type': 'Normal',\n",
        " 'seen_time': '2022-01-04'}\n",
        "\n",
        ">>> Error! ... the seen_time has no \"time\" associated with it\n",
        "```\n",
        "\n",
        "```\n",
        "{'pokemon_id': 12,\n",
        " 'trainer_name': 'Trainer_6',\n",
        " 'pokemon_type': 'Fire',\n",
        " 'seen_time': '2023-01-24 12:00:00'}\n",
        "\n",
        ">>> Error! ... This is before the first sighting for Trainer_6\n",
        "```\n",
        "\n",
        "```\n",
        "{'pokemon_id': 12,\n",
        " 'trainer_name': 'Trainer_6',\n",
        " 'pokemon_type': 'Fire',\n",
        " 'seen_time': '2024-01-01 16:00:00'}\n",
        "\n",
        ">>> Valid entry, appended to dataset.\n",
        "```"
      ]
    },
    {
      "cell_type": "code",
      "execution_count": null,
      "id": "d2ccf3a0-57be-4ae8-9d0a-757db78122f7",
      "metadata": {
        "id": "d2ccf3a0-57be-4ae8-9d0a-757db78122f7"
      },
      "outputs": [],
      "source": []
    }
  ],
  "metadata": {
    "colab": {
      "provenance": []
    },
    "kernelspec": {
      "display_name": "i501 (pip)",
      "language": "python",
      "name": "i501-pip"
    },
    "language_info": {
      "codemirror_mode": {
        "name": "ipython",
        "version": 3
      },
      "file_extension": ".py",
      "mimetype": "text/x-python",
      "name": "python",
      "nbconvert_exporter": "python",
      "pygments_lexer": "ipython3",
      "version": "3.10.13"
    }
  },
  "nbformat": 4,
  "nbformat_minor": 5
}
